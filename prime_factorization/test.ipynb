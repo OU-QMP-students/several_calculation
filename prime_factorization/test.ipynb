{
 "cells": [
  {
   "cell_type": "code",
   "execution_count": 1,
   "metadata": {},
   "outputs": [],
   "source": [
    "from prime_factorization import sph_irrep, char_spherical_harm"
   ]
  },
  {
   "cell_type": "markdown",
   "metadata": {},
   "source": [
    "## $D^{(3)}$の既約表現"
   ]
  },
  {
   "cell_type": "code",
   "execution_count": 2,
   "metadata": {},
   "outputs": [
    {
     "name": "stdout",
     "output_type": "stream",
     "text": [
      "<_io.TextIOWrapper name='config/charactors.yaml' mode='r' encoding='UTF-8'>\n"
     ]
    },
    {
     "data": {
      "text/plain": [
       "A1g   -0.0\n",
       "A2g    1.0\n",
       "Eg     0.0\n",
       "T1g    1.0\n",
       "T2g    1.0\n",
       "A1u    0.0\n",
       "A2u    0.0\n",
       "Eu     0.0\n",
       "T1u    0.0\n",
       "T2u    0.0\n",
       "dtype: float64"
      ]
     },
     "execution_count": 2,
     "metadata": {},
     "output_type": "execute_result"
    }
   ],
   "source": [
    "sph_irrep(3)"
   ]
  },
  {
   "cell_type": "markdown",
   "metadata": {},
   "source": [
    "## $D^{(5/2)}\\otimes D^{(5/2)}$の既約表現"
   ]
  },
  {
   "cell_type": "code",
   "execution_count": 3,
   "metadata": {},
   "outputs": [
    {
     "name": "stdout",
     "output_type": "stream",
     "text": [
      "<_io.TextIOWrapper name='config/charactors.yaml' mode='r' encoding='UTF-8'>\n"
     ]
    },
    {
     "data": {
      "text/plain": [
       "A1g    2.0\n",
       "A2g    1.0\n",
       "Eg     3.0\n",
       "T1g    5.0\n",
       "T2g    4.0\n",
       "A1u    0.0\n",
       "A2u    0.0\n",
       "Eu     0.0\n",
       "T1u    0.0\n",
       "T2u    0.0\n",
       "dtype: float64"
      ]
     },
     "execution_count": 3,
     "metadata": {},
     "output_type": "execute_result"
    }
   ],
   "source": [
    "char = char_spherical_harm(5/2)\n",
    "sph_irrep(None, char*char, rel=False)"
   ]
  },
  {
   "cell_type": "markdown",
   "metadata": {},
   "source": [
    "## $D^{(5/2)}$の既約分解(2価表現)"
   ]
  },
  {
   "cell_type": "code",
   "execution_count": 4,
   "metadata": {},
   "outputs": [
    {
     "name": "stdout",
     "output_type": "stream",
     "text": [
      "<_io.TextIOWrapper name='config/charactors.yaml' mode='r' encoding='UTF-8'>\n"
     ]
    },
    {
     "data": {
      "text/plain": [
       "E(1/2g)    0.0\n",
       "E(5/2g)    1.0\n",
       "G(3/2g)    1.0\n",
       "E(1/2u)    0.0\n",
       "E(5/2u)    0.0\n",
       "G(3/2u)    0.0\n",
       "dtype: float64"
      ]
     },
     "execution_count": 4,
     "metadata": {},
     "output_type": "execute_result"
    }
   ],
   "source": [
    "char = char_spherical_harm(5/2)\n",
    "sph_irrep(None, char, rel=True)"
   ]
  },
  {
   "cell_type": "markdown",
   "metadata": {},
   "source": [
    "## $D^{(1/2)}$の既約分解(2価表現)"
   ]
  },
  {
   "cell_type": "code",
   "execution_count": 5,
   "metadata": {},
   "outputs": [
    {
     "name": "stdout",
     "output_type": "stream",
     "text": [
      "<_io.TextIOWrapper name='config/charactors.yaml' mode='r' encoding='UTF-8'>\n"
     ]
    },
    {
     "data": {
      "text/plain": [
       "E(1/2g)    1.0\n",
       "E(5/2g)    0.0\n",
       "G(3/2g)   -0.0\n",
       "E(1/2u)    0.0\n",
       "E(5/2u)    0.0\n",
       "G(3/2u)    0.0\n",
       "dtype: float64"
      ]
     },
     "execution_count": 5,
     "metadata": {},
     "output_type": "execute_result"
    }
   ],
   "source": [
    "sph_irrep(1/2, rel=True)"
   ]
  }
 ],
 "metadata": {
  "kernelspec": {
   "display_name": ".ve",
   "language": "python",
   "name": "python3"
  },
  "language_info": {
   "codemirror_mode": {
    "name": "ipython",
    "version": 3
   },
   "file_extension": ".py",
   "mimetype": "text/x-python",
   "name": "python",
   "nbconvert_exporter": "python",
   "pygments_lexer": "ipython3",
   "version": "3.10.12"
  },
  "orig_nbformat": 4
 },
 "nbformat": 4,
 "nbformat_minor": 2
}
