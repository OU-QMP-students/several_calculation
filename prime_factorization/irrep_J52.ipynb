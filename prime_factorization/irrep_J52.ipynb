{
 "cells": [
  {
   "cell_type": "code",
   "execution_count": 1,
   "metadata": {},
   "outputs": [],
   "source": [
    "from prime_factorization import sph_irrep, char_spherical_harm, charactors"
   ]
  },
  {
   "cell_type": "code",
   "execution_count": 2,
   "metadata": {},
   "outputs": [
    {
     "name": "stdout",
     "output_type": "stream",
     "text": [
      "<_io.TextIOWrapper name='config/charactors.yaml' mode='r' encoding='UTF-8'>\n"
     ]
    },
    {
     "data": {
      "text/html": [
       "<div>\n",
       "<style scoped>\n",
       "    .dataframe tbody tr th:only-of-type {\n",
       "        vertical-align: middle;\n",
       "    }\n",
       "\n",
       "    .dataframe tbody tr th {\n",
       "        vertical-align: top;\n",
       "    }\n",
       "\n",
       "    .dataframe thead th {\n",
       "        text-align: right;\n",
       "    }\n",
       "</style>\n",
       "<table border=\"1\" class=\"dataframe\">\n",
       "  <thead>\n",
       "    <tr style=\"text-align: right;\">\n",
       "      <th></th>\n",
       "      <th>E</th>\n",
       "      <th>6C4</th>\n",
       "      <th>3C4^2</th>\n",
       "      <th>6C2'</th>\n",
       "      <th>8C^3</th>\n",
       "      <th>I</th>\n",
       "      <th>6IC4</th>\n",
       "      <th>3sigma</th>\n",
       "      <th>6sigmad</th>\n",
       "      <th>8IC^3</th>\n",
       "    </tr>\n",
       "  </thead>\n",
       "  <tbody>\n",
       "    <tr>\n",
       "      <th>E(1/2g)</th>\n",
       "      <td>2.0</td>\n",
       "      <td>1.414214</td>\n",
       "      <td>0.0</td>\n",
       "      <td>0.0</td>\n",
       "      <td>1.0</td>\n",
       "      <td>2.0</td>\n",
       "      <td>1.414214</td>\n",
       "      <td>0.0</td>\n",
       "      <td>0.0</td>\n",
       "      <td>1.0</td>\n",
       "    </tr>\n",
       "    <tr>\n",
       "      <th>E(5/2g)</th>\n",
       "      <td>2.0</td>\n",
       "      <td>-1.414214</td>\n",
       "      <td>0.0</td>\n",
       "      <td>0.0</td>\n",
       "      <td>1.0</td>\n",
       "      <td>2.0</td>\n",
       "      <td>-1.414214</td>\n",
       "      <td>0.0</td>\n",
       "      <td>0.0</td>\n",
       "      <td>1.0</td>\n",
       "    </tr>\n",
       "    <tr>\n",
       "      <th>G(3/2g)</th>\n",
       "      <td>4.0</td>\n",
       "      <td>0.000000</td>\n",
       "      <td>0.0</td>\n",
       "      <td>0.0</td>\n",
       "      <td>-1.0</td>\n",
       "      <td>4.0</td>\n",
       "      <td>0.000000</td>\n",
       "      <td>0.0</td>\n",
       "      <td>0.0</td>\n",
       "      <td>-1.0</td>\n",
       "    </tr>\n",
       "    <tr>\n",
       "      <th>E(1/2u)</th>\n",
       "      <td>2.0</td>\n",
       "      <td>1.414214</td>\n",
       "      <td>0.0</td>\n",
       "      <td>0.0</td>\n",
       "      <td>1.0</td>\n",
       "      <td>-2.0</td>\n",
       "      <td>-1.414214</td>\n",
       "      <td>0.0</td>\n",
       "      <td>0.0</td>\n",
       "      <td>-1.0</td>\n",
       "    </tr>\n",
       "    <tr>\n",
       "      <th>E(5/2u)</th>\n",
       "      <td>2.0</td>\n",
       "      <td>-1.414214</td>\n",
       "      <td>0.0</td>\n",
       "      <td>0.0</td>\n",
       "      <td>1.0</td>\n",
       "      <td>-2.0</td>\n",
       "      <td>1.414214</td>\n",
       "      <td>0.0</td>\n",
       "      <td>0.0</td>\n",
       "      <td>-1.0</td>\n",
       "    </tr>\n",
       "    <tr>\n",
       "      <th>G(3/2u)</th>\n",
       "      <td>4.0</td>\n",
       "      <td>0.000000</td>\n",
       "      <td>0.0</td>\n",
       "      <td>0.0</td>\n",
       "      <td>-1.0</td>\n",
       "      <td>-4.0</td>\n",
       "      <td>0.000000</td>\n",
       "      <td>0.0</td>\n",
       "      <td>0.0</td>\n",
       "      <td>1.0</td>\n",
       "    </tr>\n",
       "  </tbody>\n",
       "</table>\n",
       "</div>"
      ],
      "text/plain": [
       "           E       6C4  3C4^2  6C2'  8C^3    I      6IC4  3sigma  6sigmad  \\\n",
       "E(1/2g)  2.0  1.414214    0.0   0.0   1.0  2.0  1.414214     0.0      0.0   \n",
       "E(5/2g)  2.0 -1.414214    0.0   0.0   1.0  2.0 -1.414214     0.0      0.0   \n",
       "G(3/2g)  4.0  0.000000    0.0   0.0  -1.0  4.0  0.000000     0.0      0.0   \n",
       "E(1/2u)  2.0  1.414214    0.0   0.0   1.0 -2.0 -1.414214     0.0      0.0   \n",
       "E(5/2u)  2.0 -1.414214    0.0   0.0   1.0 -2.0  1.414214     0.0      0.0   \n",
       "G(3/2u)  4.0  0.000000    0.0   0.0  -1.0 -4.0  0.000000     0.0      0.0   \n",
       "\n",
       "         8IC^3  \n",
       "E(1/2g)    1.0  \n",
       "E(5/2g)    1.0  \n",
       "G(3/2g)   -1.0  \n",
       "E(1/2u)   -1.0  \n",
       "E(5/2u)   -1.0  \n",
       "G(3/2u)    1.0  "
      ]
     },
     "execution_count": 2,
     "metadata": {},
     "output_type": "execute_result"
    }
   ],
   "source": [
    "char, time = charactors(rel=True)\n",
    "char"
   ]
  },
  {
   "cell_type": "code",
   "execution_count": 3,
   "metadata": {},
   "outputs": [
    {
     "name": "stdout",
     "output_type": "stream",
     "text": [
      "<_io.TextIOWrapper name='config/charactors.yaml' mode='r' encoding='UTF-8'>\n"
     ]
    },
    {
     "data": {
      "text/plain": [
       "A1g    1.0\n",
       "A2g   -0.0\n",
       "Eg     0.0\n",
       "T1g    1.0\n",
       "T2g   -0.0\n",
       "A1u    0.0\n",
       "A2u    0.0\n",
       "Eu     0.0\n",
       "T1u    0.0\n",
       "T2u    0.0\n",
       "dtype: float64"
      ]
     },
     "execution_count": 3,
     "metadata": {},
     "output_type": "execute_result"
    }
   ],
   "source": [
    "E52g = char.T['E(5/2g)']\n",
    "sph_irrep(None, E52g * E52g)"
   ]
  },
  {
   "cell_type": "code",
   "execution_count": 4,
   "metadata": {},
   "outputs": [
    {
     "name": "stdout",
     "output_type": "stream",
     "text": [
      "<_io.TextIOWrapper name='config/charactors.yaml' mode='r' encoding='UTF-8'>\n"
     ]
    },
    {
     "data": {
      "text/plain": [
       "A1g    1.0\n",
       "A2g    1.0\n",
       "Eg     1.0\n",
       "T1g    2.0\n",
       "T2g    2.0\n",
       "A1u    0.0\n",
       "A2u    0.0\n",
       "Eu     0.0\n",
       "T1u    0.0\n",
       "T2u    0.0\n",
       "dtype: float64"
      ]
     },
     "execution_count": 4,
     "metadata": {},
     "output_type": "execute_result"
    }
   ],
   "source": [
    "G32g = char.T['G(3/2g)']\n",
    "sph_irrep(None, G32g * G32g)"
   ]
  },
  {
   "cell_type": "code",
   "execution_count": 5,
   "metadata": {},
   "outputs": [
    {
     "name": "stdout",
     "output_type": "stream",
     "text": [
      "<_io.TextIOWrapper name='config/charactors.yaml' mode='r' encoding='UTF-8'>\n"
     ]
    },
    {
     "data": {
      "text/plain": [
       "A1g    0.0\n",
       "A2g    0.0\n",
       "Eg     1.0\n",
       "T1g    1.0\n",
       "T2g    1.0\n",
       "A1u    0.0\n",
       "A2u    0.0\n",
       "Eu     0.0\n",
       "T1u    0.0\n",
       "T2u    0.0\n",
       "dtype: float64"
      ]
     },
     "execution_count": 5,
     "metadata": {},
     "output_type": "execute_result"
    }
   ],
   "source": [
    "sph_irrep(None, G32g * E52g)"
   ]
  }
 ],
 "metadata": {
  "kernelspec": {
   "display_name": ".ve",
   "language": "python",
   "name": "python3"
  },
  "language_info": {
   "codemirror_mode": {
    "name": "ipython",
    "version": 3
   },
   "file_extension": ".py",
   "mimetype": "text/x-python",
   "name": "python",
   "nbconvert_exporter": "python",
   "pygments_lexer": "ipython3",
   "version": "3.10.12"
  },
  "orig_nbformat": 4
 },
 "nbformat": 4,
 "nbformat_minor": 2
}
